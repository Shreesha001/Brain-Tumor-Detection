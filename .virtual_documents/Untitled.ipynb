import os
import numpy as np
import pandas as pd
import random
from PIL import Image , ImageEnhance

#keras
from tensorflow.keras.models import Sequential
from tensorflow.keras.layers import Input, Dense , Flatten , Dropout
from tensorflow.keras.preprocessing.image import load_img
from tensorflow.keras.optimizers import Adam
from tensorflow.keras.applications import VGG16
from sklearn.utils import shuffle
from tensorflow.keras.preprocessing.image import ImageDataGenerator


# Define paths
train_dir = "/home/shreesha/Downloads/MRI Images/Training"
test_dir = "/home/shreesha/Downloads/MRI Images/Testing"


# loading and shuffling the train data 
train_paths = []
train_labels = []
 
for label in os.listdir(train_dir):
    for image in os.listdir(os.path.join(train_dir , label)):
        train_paths.append(os.path.join(train_dir,label,image))
        train_labels.append(label)

train_paths , train_labels = shuffle(train_paths,train_labels)



# loading and shuffling the train data 
test_paths = []
test_labels = []

for label in os.listdir(test_dir):
    for image in os.listdir(os.path.join(test_dir , label)):
        test_paths.append(os.path.join(test_dir,label,image))
        test_labels.append(label)

test_paths , test_labels = shuffle(test_paths,test_labels)





import matplotlib.pyplot as plt

#selecting random 10 indices 
random_indices = random.sample(range(len(train_paths)),10)

fig , axes = plt.subplots(2 , 5 , figsize=(15,6))
axes = axes.ravel()
# `axes.ravel()` flattens the 2D array of subplots into 1D, so you can loop easily with `axes[i]`. Without it, you'd get an indexing error.

for i , idx in enumerate(random_indices):
    img_path = train_paths[idx]
    img = Image.open(img_path)
    img = img.resize((128,128))
    axes[i].imshow(img , cmap='gray')
    axes[i].axis("off")
    axes[i].set_title(f"Label : {train_labels[idx]}")
plt.tight_layout()






